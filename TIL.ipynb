{
 "cells": [
  {
   "cell_type": "markdown",
   "metadata": {},
   "source": [
    "## 4주차 TIL\n",
    "\n",
    "- 라이브러리 : 개발자가 필요에 따라 사용할 수 있는 독립적인 코드모음\n",
    "\n",
    "- 프레임워크 : 미리 정의된 구조와 규칙을 가진, 애플리케이션 개발을 위한 전체적인 프로그래밍 틀\n",
    "\n",
    "#### 리엑트란?\n",
    "\n",
    "- 자바스크립트 프레임워크\n",
    "\n",
    "- 가상 DOM을 사용하여 애플리케이션 성능을 최적화하고 효율적으로 유지 가능\n",
    "\n",
    "\n",
    "##### + Vue\n",
    "\n",
    "Vue는 전직 구글 개발자인 Evan You에 의해 만들어진 JavaScript 프레임워크.\n",
    "\n",
    "##### + Angular\n",
    "\n",
    "Angular는 여기서 얘기할 도구들 중에서 가장 처음에 등장.\n"
   ]
  },
  {
   "cell_type": "markdown",
   "metadata": {},
   "source": [
    "### 리엑트 특징\n",
    "\n",
    "1. UI 컴포넌트를 만들고 재사용하는데 매우 용이.\n",
    "2. Virtual DOM(가상 돔)\n",
    "3. JSX(JS + XML): html 요소들!"
   ]
  },
  {
   "cell_type": "markdown",
   "metadata": {},
   "source": [
    "npx create-react-app my-app\n",
    "\n",
    "-> 이렇게 리엑트 프로젝트 생성하기\n",
    "\n",
    "npm start\n",
    "\n",
    "-> 로컬환경에서 실행\n",
    "\n",
    "App.js\n",
    "\n",
    "-> 메인페이지\n",
    "\n",
    "index.js\n",
    "\n",
    "->메인페이지를 보여지게 함."
   ]
  },
  {
   "cell_type": "markdown",
   "metadata": {},
   "source": [
    "JSX란?\n",
    "\n",
    "-> JavaScript XML의 약자\n",
    "\n",
    "-> JSX는 HTML과 매우 유사하지만 엄연히 다른 언어!\n",
    "\n",
    "-> 주의할 점\n",
    "\n",
    "1. 모든 프로퍼티 이름은 카멜 케이스(CamelCase) 대문자 구분을 따름.\n",
    "\n",
    "2. 문자를 제외한 속성값은 중괄호({ }) 사용 <br>\n",
    "\n",
    "3. 'true' 값을 갖는 속성은 속성 이름만으로 표현할 수 있음. \n",
    "\n",
    "4. 'class' 속성은 'className'으로 표기.\n",
    "\n",
    "5. 인라인 스타일은 객체 형태 사용."
   ]
  },
  {
   "cell_type": "markdown",
   "metadata": {},
   "source": [
    "key props 사용\n",
    "\n",
    "-> 리스트에 변화가 발생했을 때 React가 엘리먼트의 변경사항을 빠르게 감지하고, 렌더링을 최적화할 수 있다."
   ]
  },
  {
   "cell_type": "markdown",
   "metadata": {},
   "source": []
  }
 ],
 "metadata": {
  "language_info": {
   "name": "python"
  }
 },
 "nbformat": 4,
 "nbformat_minor": 2
}
