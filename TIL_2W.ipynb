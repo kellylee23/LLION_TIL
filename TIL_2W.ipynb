{
 "cells": [
  {
   "cell_type": "markdown",
   "metadata": {},
   "source": [
    "> **Chapter 8.** CSS Beginner\n",
    "\n",
    "border : 요소 사이즈에 패딩과 테두리 포함\n",
    "dot : class\n",
    "#은 ID값을 의미함.\n",
    " \n",
    "inline-> 좌우 margin, padding 만 적용가능\n",
    "\n",
    "box model \n",
    "\n",
    "margin : 상하좌우 넓히기, \n",
    "\n",
    "div {\n",
    "\n",
    "margin(여백): 상 우 하 좌 -> 위쪽부터 시계방향으로 이동 // (상하) (좌우) 이렇게  두개만 적어도 된다. //한개만 적어도 됨(모두가 다 같을 때에)\n",
    "\n",
    "border(테두리), solid(실선)\n",
    " \n",
    "border box - \n",
    "테두리를 포함하는 박스 이용 ; * 이용하기, \n",
    "\n",
    "div <br>\n",
    "em / rem <br>\n",
    "vw / vh<br>\n",
    "여러개 이미지 사용-> 사이즈 맞추기\n",
    "\n",
    "\n",
    "> **Chapter 9.** CSS Next Level\n",
    "\n",
    "***float***<br>\n",
    "margin을 없앤다.<br>\n",
    "부모요소의 width값 만큼 margin이 생김.<br>\n",
    "\n",
    "***clear***<br>\n",
    "float으로 없어진 부분에 다른 속성이 들어가지 않도록 주의시켜주는 것.<br>\n",
    "\n",
    "***flex***<br>\n",
    "배치 위치 지정<br>\n",
    "\n",
    ".container { display: flex; }\n",
    "\n",
    "부모에 flex를 적용하면 모든 자식 요소가 float를 적용한 듯한 효과!<br>\n",
    "부모 요소에 {justify-content: space-between;}을 추가하면 각각의 요소 사이에 간격이 생김.\n",
    "\n",
    "\n",
    "> **Chapter 10.** CSS 외부 리소스 적용해보기\n",
    "\n",
    "**구글폰트적용하기**<br>\n",
    "**폰트 어썸 사용**<br>\n",
    "어썸-load all styles코드 복붙하기 -> 그 후에 아이콘 넣으면된다."
   ]
  }
 ],
 "metadata": {
  "language_info": {
   "name": "python"
  }
 },
 "nbformat": 4,
 "nbformat_minor": 2
}
